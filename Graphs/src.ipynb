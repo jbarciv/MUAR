{
 "cells": [
  {
   "cell_type": "markdown",
   "id": "72d7b5df",
   "metadata": {},
   "source": [
    "# Assignment 1: Graphs Problems\n",
    "\n",
    "**Mathematics for Robotics - Module 1: Graphs** \\\n",
    "*Master in Automation and Robotics - ETSII - UPM* \\\n",
    "Student: Josep María Barberá Civera\n"
   ]
  },
  {
   "cell_type": "markdown",
   "id": "3cdebb3b",
   "metadata": {},
   "source": [
    "# Solving TSP, CPP and SPP"
   ]
  },
  {
   "cell_type": "markdown",
   "id": "dfbd171b",
   "metadata": {},
   "source": [
    "We are going to use `networkx` as the main library for the solution of this graph problems."
   ]
  },
  {
   "cell_type": "markdown",
   "id": "c18c5b27",
   "metadata": {},
   "source": [
    "## Plotting Graphs"
   ]
  },
  {
   "cell_type": "code",
   "execution_count": 12,
   "id": "37350855",
   "metadata": {},
   "outputs": [
    {
     "name": "stdout",
     "output_type": "stream",
     "text": [
      "['lin318.tsp', 'kroA100.tsp', 'pcb442.tsp']\n"
     ]
    }
   ],
   "source": [
    "import networkx as nx\n",
    "import os\n",
    "import math\n",
    "import glob\n",
    "import time\n",
    "import matplotlib.pyplot as plt\n",
    "import numpy as np\n",
    "graphs_dir = \"/home/josep/Documents/ETSII/Matematicas_MUAR/1_Grafos/practica/Grafos\"\n",
    "os.chdir(graphs_dir)\n",
    "tsp_files = glob.glob(\"*.tsp\")\n",
    "print(tsp_files)"
   ]
  },
  {
   "cell_type": "code",
   "execution_count": 2,
   "id": "73c3b269",
   "metadata": {},
   "outputs": [],
   "source": [
    "# For ordered graphs\n",
    "def get_pos(tsp_file):\n",
    "    i = 0\n",
    "\n",
    "    # we open and read each of the lines looking for the EOF\n",
    "    with open(tsp_file , 'r') as this_file:\n",
    "        lines = this_file.readlines()\n",
    "        for line in lines:\n",
    "            if line.find(\"EOF\") != -1:\n",
    "                i = lines.index(line)\n",
    "                \n",
    "    # Once we have the index line, we can read the previous one\n",
    "    last_vertex_index = i-1\n",
    "    last_vertex_line = lines[last_vertex_index]\n",
    "    cut = last_vertex_line.find(\" \")\n",
    "    vertices_number = int(last_vertex_line[:cut])\n",
    "    first_vertex_index = last_vertex_index - vertices_number + 1\n",
    "    good_lines = lines[first_vertex_index:last_vertex_index+1]\n",
    "\n",
    "    pos = {}\n",
    "    for line in good_lines:\n",
    "        l = line.find(\" \")\n",
    "        number = float(line[:l])\n",
    "        line = line[l+1:]\n",
    "        l = line.find(\" \")\n",
    "        x = float(line[:l])\n",
    "\n",
    "        line = line[l+1:line.find(\"\\n\")]\n",
    "        y = float(line)\n",
    "\n",
    "        pos[number] = (x,y)\n",
    "    return pos"
   ]
  },
  {
   "cell_type": "code",
   "execution_count": 3,
   "id": "090d7423",
   "metadata": {},
   "outputs": [],
   "source": [
    "def plot_graph(G, pos, filename):\n",
    "    graph_dir = filename + '_plotgraph.png'\n",
    "    fig = plt.figure(figsize=(30, 20), dpi=200)\n",
    "    options = {\n",
    "        'node_color':'red',\n",
    "        'node_size':100,\n",
    "        'alpha':1\n",
    "    }\n",
    "    nx.draw_networkx_nodes(G,pos=pos,**options)#draw nodes\n",
    "    if len(pos) <= 100:\n",
    "        nx.draw_networkx_edges(G,pos=pos,alpha=0.33,width=0.75)\n",
    "    else:\n",
    "        nx.draw_networkx_edges(G,pos=pos,alpha=0.033,width=0.5)\n",
    "    plt.subplots_adjust(left=0.1, right=0.9, top=0.9, bottom=0.1)  # Add padding\n",
    "    fig.savefig(graph_dir)"
   ]
  },
  {
   "cell_type": "code",
   "execution_count": 4,
   "id": "c39d0fd3",
   "metadata": {},
   "outputs": [],
   "source": [
    "def plot_path(G, pos, path, plot_name):\n",
    "    fig = plt.figure(figsize=(30, 20), dpi=200)\n",
    "    H = G.copy()\n",
    "    \n",
    "    # Draw closest edges on each node only\n",
    "    if len(pos) <= 150:\n",
    "        nx.draw_networkx_edges(H, pos, edge_color=\"black\", width=0.5, alpha=0.1)\n",
    "    else:\n",
    "        nx.draw_networkx_edges(H, pos, edge_color=\"black\", width=0.5, alpha=0.01)\n",
    "    # Draw the route\n",
    "    nx.draw_networkx(\n",
    "        G,\n",
    "        pos,\n",
    "        node_color = \"midnightblue\",\n",
    "        font_color=\"whitesmoke\",\n",
    "        with_labels=True,\n",
    "        edgelist=path,\n",
    "        edge_color=\"red\",\n",
    "        node_size=400,\n",
    "        width=3,\n",
    "    )\n",
    "    \n",
    "    plt.subplots_adjust(left=0.1, right=0.9, top=0.9, bottom=0.1)  # Add padding\n",
    "    plot_name = plot_name + \".png\"\n",
    "    fig.savefig(plot_name)"
   ]
  },
  {
   "cell_type": "code",
   "execution_count": 5,
   "id": "48fa69b3",
   "metadata": {},
   "outputs": [],
   "source": [
    "def create_video_frames(G, pos, list_path, video_name):\n",
    "    # Path \n",
    "    new_directory = \"frames_\" + video_name\n",
    "    path = os.path.join(graphs_dir, new_directory) \n",
    "    os.mkdir(path)\n",
    "    os.chdir(path)\n",
    "    edge_list = []\n",
    "    j = 0\n",
    "    new_pos = {}\n",
    "    for i in list_path:\n",
    "        print(i)\n",
    "        j = j + 1\n",
    "        edge_list.append(i)\n",
    "        u, v = i\n",
    "        new_pos[u] = pos[u]\n",
    "        new_pos[v] = pos[v]\n",
    "        fig = plt.figure(figsize=(24, 16), dpi=200)\n",
    "        H = G.copy()\n",
    "    \n",
    "        # Draw closest edges on each node only\n",
    "        if len(pos) <= 150:\n",
    "            nx.draw_networkx_edges(H, pos, edge_color=\"black\", width=0.25, alpha=0.1)\n",
    "        else:\n",
    "            nx.draw_networkx_edges(H, pos, edge_color=\"black\", width=0.25, alpha=0.01)\n",
    "        # Draw the route\n",
    "        nx.draw_networkx(\n",
    "            G,\n",
    "            pos,\n",
    "            node_color = \"midnightblue\",\n",
    "            font_color=\"whitesmoke\",\n",
    "            font_size = 9,\n",
    "            with_labels=True,\n",
    "            edgelist=edge_list,\n",
    "            edge_color=\"red\",\n",
    "            node_size=100,\n",
    "            width=2,\n",
    "        )\n",
    "        \n",
    "        plt.subplots_adjust(left=0.1, right=0.9, top=0.9, bottom=0.1)  # Add padding\n",
    "        plot_name = str(j) + \".png\"\n",
    "        fig.savefig(plot_name)\n",
    "        if j == 31:\n",
    "            break\n",
    "    os.chdir(graphs_dir)"
   ]
  },
  {
   "cell_type": "code",
   "execution_count": 6,
   "id": "6f5eb2d7",
   "metadata": {},
   "outputs": [],
   "source": [
    "#pos = get_pos(tsp_files[2])\n",
    "#\n",
    "#G = nx.complete_graph(range(1, len(pos)+1))\n",
    "#nx.set_node_attributes(G,pos,'pos')\n",
    "#plot_graph(G,pos,\"testing\")"
   ]
  },
  {
   "cell_type": "markdown",
   "id": "130c5136",
   "metadata": {},
   "source": [
    "## Some useful functions"
   ]
  },
  {
   "cell_type": "code",
   "execution_count": 7,
   "id": "ce8c03b8",
   "metadata": {},
   "outputs": [],
   "source": [
    "def distance(pos, u, v):\n",
    "    dx = pos[u][0] - pos[v][0]\n",
    "    dy = pos[u][1] - pos[v][1]\n",
    "    return math.sqrt(dx*dx + dy*dy)"
   ]
  },
  {
   "cell_type": "code",
   "execution_count": 8,
   "id": "c71aac4e",
   "metadata": {},
   "outputs": [],
   "source": [
    "def compute_length(G, path):\n",
    "    length = 0\n",
    "    j = 0\n",
    "    for i in path:\n",
    "        if j == 0:\n",
    "            j = i\n",
    "            continue\n",
    "        else:\n",
    "            length = length + G.get_edge_data(j,i)[\"weight\"]\n",
    "            j = i\n",
    "    return length"
   ]
  },
  {
   "cell_type": "markdown",
   "id": "63001b39",
   "metadata": {},
   "source": [
    "## Main function for computing TSP, CPP and Shortest Path"
   ]
  },
  {
   "cell_type": "code",
   "execution_count": 10,
   "id": "3f45eab4",
   "metadata": {},
   "outputs": [
    {
     "name": "stdout",
     "output_type": "stream",
     "text": [
      "Graph: lin318.tsp\n",
      "Graph problem took 13.4672 seconds\n",
      "Here the path:\n",
      "[1, 2, 3, 1, 4, 2, 5,..., 317, 318]\n",
      "With a total length of 93601595.26 distance units\n",
      "With a total distance of graph: 93197470.43491593\n",
      "\n"
     ]
    },
    {
     "name": "stdout",
     "output_type": "stream",
     "text": [
      "Graph: kroA100.tsp\n",
      "Graph problem took 0.9095 seconds\n",
      "Here the path:\n",
      "[1, 2, 3, ..., 97, 100, 98, 99, 100]\n",
      "With a total length of 8548179.00 distance units\n",
      "With a total distance of graph: 8467999.368139254\n",
      "\n"
     ]
    },
    {
     "name": "stdout",
     "output_type": "stream",
     "text": [
      "Graph: pcb442.tsp\n",
      "Graph problem took 50.1948 seconds\n",
      "Here the path:\n",
      "[1, 2, 3, 1, 4, 2, 5, 1, 6, 2, 7, 1, 8, 2, 9, 1, 10, 2]\n", 
      "With a total distance of graph: 170361591.62289953\n",
      "\n"
     ]
    }
   ],
   "source": [
    "os.chdir(graphs_dir)\n",
    "for file in tsp_files:\n",
    "    pos = get_pos(file)\n",
    "    # Creating complete graph\n",
    "    G = nx.complete_graph(range(1, len(pos)+1))\n",
    "    nx.set_node_attributes(G,pos,'pos')\n",
    "    \n",
    "    # Add weights as Euclidean distance\n",
    "    total_d = 0\n",
    "    for u,v in G.edges():\n",
    "        d = distance(pos, u, v)\n",
    "        G.add_edge(u,v,weight = d)\n",
    "        total_d = total_d + d\n",
    "    \n",
    "    # Here you decide which problem to solve\n",
    "    ################ 1 => TSP: Traveling Salesman Problem\n",
    "    GRAPH = 2 ###### 2 => CPP: chinese Postman Problem\n",
    "    ################ 3 => SPP: Shortest Path Problem\n",
    "    \n",
    "    start_time = time.time()\n",
    "    if GRAPH == 1:\n",
    "        ##############################################\n",
    "        # TSP (Travellin Salesman Problem)\n",
    "        ##############################################\n",
    "        tsp = nx.approximation.traveling_salesman_problem\n",
    "        path = tsp(G)\n",
    "        plot_name = \"tsp_\" + file[:-4] + \".png\"\n",
    "    elif GRAPH == 2:\n",
    "        ##############################################\n",
    "        # CPP or EULERIAN CIRCUIT = CPP (Chinese Postman Problem) (becuase we use full connected graphs)\n",
    "        ##############################################\n",
    "        if nx.is_eulerian(G):\n",
    "               path = [u for u, v in nx.eulerian_circuit(G, source=1)]\n",
    "        else:\n",
    "            H = nx.eulerize(G)\n",
    "            path = [u for u, v in nx.eulerian_path(H, source=1)]\n",
    "        plot_name = \"cpp_\" + file[:-4] + \".png\"\n",
    "    elif GRAPH == 3:\n",
    "        ##############################################\n",
    "        # SHORTEST PATH\n",
    "        ##############################################\n",
    "        path = nx.shortest_path(G, source=1, target=len(pos))\n",
    "        plot_name = \"shortest_path_\" + file[:-4] + \".png\"\n",
    "        ##############################################\n",
    "        \n",
    "    end_time = time.time()\n",
    "    \n",
    "    # Compute the total length for the path\n",
    "    length = compute_length(G, path)\n",
    "    \n",
    "    print(f\"Graph: {file}\")\n",
    "    print(f\"Graph problem took {end_time - start_time:.4f} seconds\")\n",
    "    print(f\"Here the path:\\n{path}\")\n",
    "    print(f\"With a total length of {length:.2f} distance units\")\n",
    "    print(f\"With a total distance of graph: {total_d}\\n\")\n",
    "    \n",
    "    ## Uncomment for plotting the path\n",
    "    #edge_list = list(nx.utils.pairwise(path))\n",
    "    #plot_path(G, pos, edge_list, plot_name)\n",
    "    \n",
    "    ## Uncomment for creating video frames: really time consumming... \n",
    "    #create_video_frames(G, pos, edge_list, plot_name[:-4])"
   ]
  },
  {
   "cell_type": "markdown",
   "id": "7e49fce2",
   "metadata": {},
   "source": [
    "# Solving MST\n",
    "MST: Minimum Spanning Tree"
   ]
  },
  {
   "cell_type": "code",
   "execution_count": null,
   "id": "6b7a8cda",
   "metadata": {},
   "outputs": [],
   "source": [
    "import networkx as nx\n",
    "import os\n",
    "import math\n",
    "import glob\n",
    "import time\n",
    "import matplotlib.pyplot as plt\n",
    "import numpy as np\n",
    "graphs_dir = \"/home/josep/Documents/ETSII/Matematicas_MUAR/1_Grafos/practica/Grafos\"\n",
    "os.chdir(graphs_dir)\n",
    "tsp_files = glob.glob(\"*.txt\")\n",
    "print(tsp_files)"
   ]
  },
  {
   "cell_type": "code",
   "execution_count": null,
   "id": "c70037a1",
   "metadata": {},
   "outputs": [],
   "source": [
    "def create_graph(txt_file):\n",
    "    i = 0\n",
    "    # We create and empty graph\n",
    "    G = nx.Graph()\n",
    "    # we open and read each of the files looking for the EOF\n",
    "    with open(txt_file , 'r') as this_file:\n",
    "        lines = this_file.readlines()\n",
    "        lines = lines[1:]\n",
    "        lines.sort()\n",
    "        for line in lines:\n",
    "            if line.find(\"EOF\") != -1:\n",
    "                continue\n",
    "            l = line.find(\" \")\n",
    "            u = int(line[:l])\n",
    "            line = line[l+1:]\n",
    "            l = line.find(\" \")\n",
    "            v = int(line[:l])\n",
    "            line = line[l+1:line.find(\"\\n\")]\n",
    "            w = float(line)\n",
    "            \n",
    "            # and for each line we add an edge\n",
    "            G.add_edge(u, v, weight = w)\n",
    "    return G"
   ]
  },
  {
   "cell_type": "code",
   "execution_count": null,
   "id": "c96d8989",
   "metadata": {},
   "outputs": [],
   "source": [
    "def plot_graph(G, pos, filename):\n",
    "    graph_dir = filename + '_plotgraph.png'\n",
    "    fig = plt.figure(figsize=(30, 20), dpi=200)\n",
    "    options = {\n",
    "        'node_color':'red',\n",
    "        'node_size':100,\n",
    "        'alpha':1\n",
    "    }\n",
    "    nx.draw_networkx_nodes(G,pos=pos,**options)#draw nodes\n",
    "    if len(pos) <= 100:\n",
    "        nx.draw_networkx_edges(G,pos=pos,alpha=0.33,width=0.75)\n",
    "    else:\n",
    "        nx.draw_networkx_edges(G,pos=pos,alpha=0.5,width=0.5)\n",
    "    plt.subplots_adjust(left=0.1, right=0.9, top=0.9, bottom=0.1)  # Add padding\n",
    "    fig.savefig(graph_dir)"
   ]
  },
  {
   "cell_type": "code",
   "execution_count": null,
   "id": "20338c37",
   "metadata": {},
   "outputs": [],
   "source": [
    "def plot_path(G, pos, path, plot_name):\n",
    "    fig = plt.figure(figsize=(30, 20), dpi=200)\n",
    "    H = G.copy()\n",
    "    \n",
    "    # Draw closest edges on each node only\n",
    "    if len(pos) <= 150:\n",
    "        nx.draw_networkx_edges(H, pos, edge_color=\"black\", width=0.5, alpha=0.1)\n",
    "    else:\n",
    "        nx.draw_networkx_edges(H, pos, edge_color=\"black\", width=0.5, alpha=0.5)\n",
    "    # Draw the route\n",
    "    nx.draw_networkx(\n",
    "        G,\n",
    "        pos,\n",
    "        node_color = \"midnightblue\",\n",
    "        font_color=\"whitesmoke\",\n",
    "        with_labels=True,\n",
    "        edgelist=path,\n",
    "        edge_color=\"red\",\n",
    "        node_size=400,\n",
    "        width=3,\n",
    "    )\n",
    "    \n",
    "    plt.subplots_adjust(left=0.1, right=0.9, top=0.9, bottom=0.1)  # Add padding\n",
    "    plot_name = plot_name + \".png\"\n",
    "    fig.savefig(plot_name)"
   ]
  },
  {
   "cell_type": "markdown",
   "id": "196e2229",
   "metadata": {},
   "source": []
  },
  {
   "cell_type": "code",
   "execution_count": null,
   "id": "579dc7c4",
   "metadata": {},
   "outputs": [],
   "source": [
    "# We create the graph for the first (an unique) file in the folder... \n",
    "# ... (with .txt extension)\n",
    "G = create_graph(tsp_files[0])\n",
    "print(G)\n",
    "# for this graph we just have the edges between nodes...\n",
    "# there is not any position, so we decide a possible position\n",
    "# for visualization\n",
    "pos = nx.spring_layout(G, seed=7)\n",
    "plot_graph(G,pos, \"bitcoins_plot\")\n",
    "\n",
    "# Here the MSP is solved with Kruskal algorithm\n",
    "# Other options are ‘prim’, or ‘boruvka’. The default is ‘kruskal’.\n",
    "##################################################\n",
    "T = nx.minimum_spanning_tree(G, weight='weight')\n",
    "##################################################\n",
    "\n",
    "edge_list = T.edges()\n",
    "print(T)\n",
    "MST_dim = 0\n",
    "for edge in T.edges():\n",
    "    u, v = edge\n",
    "    w = float(T[u][v][\"weigth\"])\n",
    "    MST_dim = MST_dim + w\n",
    "print(MST_dim)\n",
    "\n",
    "plot_path(G, pos, edge_list, \"bitcoins_path\")\n"
   ]
  }
 ],
 "metadata": {
  "kernelspec": {
   "display_name": "Python 3 (ipykernel)",
   "language": "python",
   "name": "python3"
  },
  "language_info": {
   "codemirror_mode": {
    "name": "ipython",
    "version": 3
   },
   "file_extension": ".py",
   "mimetype": "text/x-python",
   "name": "python",
   "nbconvert_exporter": "python",
   "pygments_lexer": "ipython3",
   "version": "3.9.13"
  }
 },
 "nbformat": 4,
 "nbformat_minor": 5
}
